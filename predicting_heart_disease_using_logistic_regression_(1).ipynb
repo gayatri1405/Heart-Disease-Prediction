{
  "cells": [
    {
      "cell_type": "markdown",
      "metadata": {
        "id": "view-in-github",
        "colab_type": "text"
      },
      "source": [
        "<a href=\"https://colab.research.google.com/github/gayatri1405/Heart-Disease-Prediction/blob/main/predicting_heart_disease_using_logistic_regression_(1).ipynb\" target=\"_parent\"><img src=\"https://colab.research.google.com/assets/colab-badge.svg\" alt=\"Open In Colab\"/></a>"
      ]
    },
    {
      "cell_type": "code",
      "execution_count": null,
      "id": "9c6f6a1f",
      "metadata": {
        "_cell_guid": "b1076dfc-b9ad-4769-8c92-a6c4dae69d19",
        "_uuid": "8f2839f25d086af736a60e9eeb907d3b93b6e0e5",
        "execution": {
          "iopub.execute_input": "2023-09-05T18:46:22.714199Z",
          "iopub.status.busy": "2023-09-05T18:46:22.713564Z",
          "iopub.status.idle": "2023-09-05T18:46:23.154696Z",
          "shell.execute_reply": "2023-09-05T18:46:23.153493Z"
        },
        "papermill": {
          "duration": 0.460154,
          "end_time": "2023-09-05T18:46:23.157748",
          "exception": false,
          "start_time": "2023-09-05T18:46:22.697594",
          "status": "completed"
        },
        "tags": [],
        "id": "9c6f6a1f"
      },
      "outputs": [],
      "source": [
        "\n",
        "import numpy as np # linear algebra\n",
        "import pandas as pd # data processing, CSV file I/O (e.g. pd.read_csv)\n",
        "\n",
        "\n",
        "\n",
        "import os\n",
        "for dirname, _, filenames in os.walk('framingham.csv'):\n",
        "    for filename in filenames:\n",
        "        print(os.path.join(dirname, filename))\n",
        "\n"
      ]
    },
    {
      "cell_type": "code",
      "execution_count": null,
      "id": "ed8fea9f",
      "metadata": {
        "execution": {
          "iopub.execute_input": "2023-09-05T18:46:23.186951Z",
          "iopub.status.busy": "2023-09-05T18:46:23.186443Z",
          "iopub.status.idle": "2023-09-05T18:46:25.186470Z",
          "shell.execute_reply": "2023-09-05T18:46:25.184991Z"
        },
        "papermill": {
          "duration": 2.018528,
          "end_time": "2023-09-05T18:46:25.190084",
          "exception": false,
          "start_time": "2023-09-05T18:46:23.171556",
          "status": "completed"
        },
        "tags": [],
        "id": "ed8fea9f"
      },
      "outputs": [],
      "source": [
        "import matplotlib.pyplot as plt\n",
        "import numpy as np\n",
        "import pandas as pd\n",
        "import seaborn as sns\n",
        "from seaborn import countplot\n",
        "from sklearn import preprocessing, metrics\n",
        "from sklearn.linear_model import LogisticRegression\n",
        "from sklearn.metrics import accuracy_score\n",
        "from sklearn.model_selection import train_test_split"
      ]
    },
    {
      "cell_type": "markdown",
      "id": "542c47fe",
      "metadata": {
        "papermill": {
          "duration": 0.018001,
          "end_time": "2023-09-05T18:46:25.227148",
          "exception": false,
          "start_time": "2023-09-05T18:46:25.209147",
          "status": "completed"
        },
        "tags": [],
        "id": "542c47fe"
      },
      "source": [
        "# 1-Importing Dataset"
      ]
    },
    {
      "cell_type": "code",
      "execution_count": null,
      "id": "f8efdc1e",
      "metadata": {
        "execution": {
          "iopub.execute_input": "2023-09-05T18:46:25.266971Z",
          "iopub.status.busy": "2023-09-05T18:46:25.265796Z",
          "iopub.status.idle": "2023-09-05T18:46:25.297692Z",
          "shell.execute_reply": "2023-09-05T18:46:25.296647Z"
        },
        "papermill": {
          "duration": 0.055191,
          "end_time": "2023-09-05T18:46:25.301024",
          "exception": false,
          "start_time": "2023-09-05T18:46:25.245833",
          "status": "completed"
        },
        "tags": [],
        "id": "f8efdc1e"
      },
      "outputs": [],
      "source": [
        "df = pd.read_csv(\"framingham.csv\")"
      ]
    },
    {
      "cell_type": "code",
      "execution_count": null,
      "id": "8b86a869",
      "metadata": {
        "execution": {
          "iopub.execute_input": "2023-09-05T18:46:25.343771Z",
          "iopub.status.busy": "2023-09-05T18:46:25.342977Z",
          "iopub.status.idle": "2023-09-05T18:46:25.379674Z",
          "shell.execute_reply": "2023-09-05T18:46:25.378537Z"
        },
        "papermill": {
          "duration": 0.060864,
          "end_time": "2023-09-05T18:46:25.383102",
          "exception": false,
          "start_time": "2023-09-05T18:46:25.322238",
          "status": "completed"
        },
        "tags": [],
        "colab": {
          "base_uri": "https://localhost:8080/",
          "height": 226
        },
        "id": "8b86a869",
        "outputId": "c9338b79-d3e1-4ba2-a48f-72301074918a"
      },
      "outputs": [
        {
          "output_type": "execute_result",
          "data": {
            "text/plain": [
              "   male  age  education  currentSmoker  cigsPerDay  BPMeds  prevalentStroke  \\\n",
              "0     1   39        4.0              0         0.0     0.0                0   \n",
              "1     0   46        2.0              0         0.0     0.0                0   \n",
              "2     1   48        1.0              1        20.0     0.0                0   \n",
              "3     0   61        3.0              1        30.0     0.0                0   \n",
              "4     0   46        3.0              1        23.0     0.0                0   \n",
              "\n",
              "   prevalentHyp  diabetes  totChol  sysBP  diaBP    BMI  heartRate  glucose  \\\n",
              "0             0         0    195.0  106.0   70.0  26.97       80.0     77.0   \n",
              "1             0         0    250.0  121.0   81.0  28.73       95.0     76.0   \n",
              "2             0         0    245.0  127.5   80.0  25.34       75.0     70.0   \n",
              "3             1         0    225.0  150.0   95.0  28.58       65.0    103.0   \n",
              "4             0         0    285.0  130.0   84.0  23.10       85.0     85.0   \n",
              "\n",
              "   TenYearCHD  \n",
              "0           0  \n",
              "1           0  \n",
              "2           0  \n",
              "3           1  \n",
              "4           0  "
            ],
            "text/html": [
              "\n",
              "  <div id=\"df-f2f47a10-bcf4-498a-945f-c570dd984330\" class=\"colab-df-container\">\n",
              "    <div>\n",
              "<style scoped>\n",
              "    .dataframe tbody tr th:only-of-type {\n",
              "        vertical-align: middle;\n",
              "    }\n",
              "\n",
              "    .dataframe tbody tr th {\n",
              "        vertical-align: top;\n",
              "    }\n",
              "\n",
              "    .dataframe thead th {\n",
              "        text-align: right;\n",
              "    }\n",
              "</style>\n",
              "<table border=\"1\" class=\"dataframe\">\n",
              "  <thead>\n",
              "    <tr style=\"text-align: right;\">\n",
              "      <th></th>\n",
              "      <th>male</th>\n",
              "      <th>age</th>\n",
              "      <th>education</th>\n",
              "      <th>currentSmoker</th>\n",
              "      <th>cigsPerDay</th>\n",
              "      <th>BPMeds</th>\n",
              "      <th>prevalentStroke</th>\n",
              "      <th>prevalentHyp</th>\n",
              "      <th>diabetes</th>\n",
              "      <th>totChol</th>\n",
              "      <th>sysBP</th>\n",
              "      <th>diaBP</th>\n",
              "      <th>BMI</th>\n",
              "      <th>heartRate</th>\n",
              "      <th>glucose</th>\n",
              "      <th>TenYearCHD</th>\n",
              "    </tr>\n",
              "  </thead>\n",
              "  <tbody>\n",
              "    <tr>\n",
              "      <th>0</th>\n",
              "      <td>1</td>\n",
              "      <td>39</td>\n",
              "      <td>4.0</td>\n",
              "      <td>0</td>\n",
              "      <td>0.0</td>\n",
              "      <td>0.0</td>\n",
              "      <td>0</td>\n",
              "      <td>0</td>\n",
              "      <td>0</td>\n",
              "      <td>195.0</td>\n",
              "      <td>106.0</td>\n",
              "      <td>70.0</td>\n",
              "      <td>26.97</td>\n",
              "      <td>80.0</td>\n",
              "      <td>77.0</td>\n",
              "      <td>0</td>\n",
              "    </tr>\n",
              "    <tr>\n",
              "      <th>1</th>\n",
              "      <td>0</td>\n",
              "      <td>46</td>\n",
              "      <td>2.0</td>\n",
              "      <td>0</td>\n",
              "      <td>0.0</td>\n",
              "      <td>0.0</td>\n",
              "      <td>0</td>\n",
              "      <td>0</td>\n",
              "      <td>0</td>\n",
              "      <td>250.0</td>\n",
              "      <td>121.0</td>\n",
              "      <td>81.0</td>\n",
              "      <td>28.73</td>\n",
              "      <td>95.0</td>\n",
              "      <td>76.0</td>\n",
              "      <td>0</td>\n",
              "    </tr>\n",
              "    <tr>\n",
              "      <th>2</th>\n",
              "      <td>1</td>\n",
              "      <td>48</td>\n",
              "      <td>1.0</td>\n",
              "      <td>1</td>\n",
              "      <td>20.0</td>\n",
              "      <td>0.0</td>\n",
              "      <td>0</td>\n",
              "      <td>0</td>\n",
              "      <td>0</td>\n",
              "      <td>245.0</td>\n",
              "      <td>127.5</td>\n",
              "      <td>80.0</td>\n",
              "      <td>25.34</td>\n",
              "      <td>75.0</td>\n",
              "      <td>70.0</td>\n",
              "      <td>0</td>\n",
              "    </tr>\n",
              "    <tr>\n",
              "      <th>3</th>\n",
              "      <td>0</td>\n",
              "      <td>61</td>\n",
              "      <td>3.0</td>\n",
              "      <td>1</td>\n",
              "      <td>30.0</td>\n",
              "      <td>0.0</td>\n",
              "      <td>0</td>\n",
              "      <td>1</td>\n",
              "      <td>0</td>\n",
              "      <td>225.0</td>\n",
              "      <td>150.0</td>\n",
              "      <td>95.0</td>\n",
              "      <td>28.58</td>\n",
              "      <td>65.0</td>\n",
              "      <td>103.0</td>\n",
              "      <td>1</td>\n",
              "    </tr>\n",
              "    <tr>\n",
              "      <th>4</th>\n",
              "      <td>0</td>\n",
              "      <td>46</td>\n",
              "      <td>3.0</td>\n",
              "      <td>1</td>\n",
              "      <td>23.0</td>\n",
              "      <td>0.0</td>\n",
              "      <td>0</td>\n",
              "      <td>0</td>\n",
              "      <td>0</td>\n",
              "      <td>285.0</td>\n",
              "      <td>130.0</td>\n",
              "      <td>84.0</td>\n",
              "      <td>23.10</td>\n",
              "      <td>85.0</td>\n",
              "      <td>85.0</td>\n",
              "      <td>0</td>\n",
              "    </tr>\n",
              "  </tbody>\n",
              "</table>\n",
              "</div>\n",
              "    <div class=\"colab-df-buttons\">\n",
              "\n",
              "  <div class=\"colab-df-container\">\n",
              "    <button class=\"colab-df-convert\" onclick=\"convertToInteractive('df-f2f47a10-bcf4-498a-945f-c570dd984330')\"\n",
              "            title=\"Convert this dataframe to an interactive table.\"\n",
              "            style=\"display:none;\">\n",
              "\n",
              "  <svg xmlns=\"http://www.w3.org/2000/svg\" height=\"24px\" viewBox=\"0 -960 960 960\">\n",
              "    <path d=\"M120-120v-720h720v720H120Zm60-500h600v-160H180v160Zm220 220h160v-160H400v160Zm0 220h160v-160H400v160ZM180-400h160v-160H180v160Zm440 0h160v-160H620v160ZM180-180h160v-160H180v160Zm440 0h160v-160H620v160Z\"/>\n",
              "  </svg>\n",
              "    </button>\n",
              "\n",
              "  <style>\n",
              "    .colab-df-container {\n",
              "      display:flex;\n",
              "      gap: 12px;\n",
              "    }\n",
              "\n",
              "    .colab-df-convert {\n",
              "      background-color: #E8F0FE;\n",
              "      border: none;\n",
              "      border-radius: 50%;\n",
              "      cursor: pointer;\n",
              "      display: none;\n",
              "      fill: #1967D2;\n",
              "      height: 32px;\n",
              "      padding: 0 0 0 0;\n",
              "      width: 32px;\n",
              "    }\n",
              "\n",
              "    .colab-df-convert:hover {\n",
              "      background-color: #E2EBFA;\n",
              "      box-shadow: 0px 1px 2px rgba(60, 64, 67, 0.3), 0px 1px 3px 1px rgba(60, 64, 67, 0.15);\n",
              "      fill: #174EA6;\n",
              "    }\n",
              "\n",
              "    .colab-df-buttons div {\n",
              "      margin-bottom: 4px;\n",
              "    }\n",
              "\n",
              "    [theme=dark] .colab-df-convert {\n",
              "      background-color: #3B4455;\n",
              "      fill: #D2E3FC;\n",
              "    }\n",
              "\n",
              "    [theme=dark] .colab-df-convert:hover {\n",
              "      background-color: #434B5C;\n",
              "      box-shadow: 0px 1px 3px 1px rgba(0, 0, 0, 0.15);\n",
              "      filter: drop-shadow(0px 1px 2px rgba(0, 0, 0, 0.3));\n",
              "      fill: #FFFFFF;\n",
              "    }\n",
              "  </style>\n",
              "\n",
              "    <script>\n",
              "      const buttonEl =\n",
              "        document.querySelector('#df-f2f47a10-bcf4-498a-945f-c570dd984330 button.colab-df-convert');\n",
              "      buttonEl.style.display =\n",
              "        google.colab.kernel.accessAllowed ? 'block' : 'none';\n",
              "\n",
              "      async function convertToInteractive(key) {\n",
              "        const element = document.querySelector('#df-f2f47a10-bcf4-498a-945f-c570dd984330');\n",
              "        const dataTable =\n",
              "          await google.colab.kernel.invokeFunction('convertToInteractive',\n",
              "                                                    [key], {});\n",
              "        if (!dataTable) return;\n",
              "\n",
              "        const docLinkHtml = 'Like what you see? Visit the ' +\n",
              "          '<a target=\"_blank\" href=https://colab.research.google.com/notebooks/data_table.ipynb>data table notebook</a>'\n",
              "          + ' to learn more about interactive tables.';\n",
              "        element.innerHTML = '';\n",
              "        dataTable['output_type'] = 'display_data';\n",
              "        await google.colab.output.renderOutput(dataTable, element);\n",
              "        const docLink = document.createElement('div');\n",
              "        docLink.innerHTML = docLinkHtml;\n",
              "        element.appendChild(docLink);\n",
              "      }\n",
              "    </script>\n",
              "  </div>\n",
              "\n",
              "\n",
              "<div id=\"df-53c5f7b0-08ac-4059-aa2f-362f65ae61b4\">\n",
              "  <button class=\"colab-df-quickchart\" onclick=\"quickchart('df-53c5f7b0-08ac-4059-aa2f-362f65ae61b4')\"\n",
              "            title=\"Suggest charts\"\n",
              "            style=\"display:none;\">\n",
              "\n",
              "<svg xmlns=\"http://www.w3.org/2000/svg\" height=\"24px\"viewBox=\"0 0 24 24\"\n",
              "     width=\"24px\">\n",
              "    <g>\n",
              "        <path d=\"M19 3H5c-1.1 0-2 .9-2 2v14c0 1.1.9 2 2 2h14c1.1 0 2-.9 2-2V5c0-1.1-.9-2-2-2zM9 17H7v-7h2v7zm4 0h-2V7h2v10zm4 0h-2v-4h2v4z\"/>\n",
              "    </g>\n",
              "</svg>\n",
              "  </button>\n",
              "\n",
              "<style>\n",
              "  .colab-df-quickchart {\n",
              "      --bg-color: #E8F0FE;\n",
              "      --fill-color: #1967D2;\n",
              "      --hover-bg-color: #E2EBFA;\n",
              "      --hover-fill-color: #174EA6;\n",
              "      --disabled-fill-color: #AAA;\n",
              "      --disabled-bg-color: #DDD;\n",
              "  }\n",
              "\n",
              "  [theme=dark] .colab-df-quickchart {\n",
              "      --bg-color: #3B4455;\n",
              "      --fill-color: #D2E3FC;\n",
              "      --hover-bg-color: #434B5C;\n",
              "      --hover-fill-color: #FFFFFF;\n",
              "      --disabled-bg-color: #3B4455;\n",
              "      --disabled-fill-color: #666;\n",
              "  }\n",
              "\n",
              "  .colab-df-quickchart {\n",
              "    background-color: var(--bg-color);\n",
              "    border: none;\n",
              "    border-radius: 50%;\n",
              "    cursor: pointer;\n",
              "    display: none;\n",
              "    fill: var(--fill-color);\n",
              "    height: 32px;\n",
              "    padding: 0;\n",
              "    width: 32px;\n",
              "  }\n",
              "\n",
              "  .colab-df-quickchart:hover {\n",
              "    background-color: var(--hover-bg-color);\n",
              "    box-shadow: 0 1px 2px rgba(60, 64, 67, 0.3), 0 1px 3px 1px rgba(60, 64, 67, 0.15);\n",
              "    fill: var(--button-hover-fill-color);\n",
              "  }\n",
              "\n",
              "  .colab-df-quickchart-complete:disabled,\n",
              "  .colab-df-quickchart-complete:disabled:hover {\n",
              "    background-color: var(--disabled-bg-color);\n",
              "    fill: var(--disabled-fill-color);\n",
              "    box-shadow: none;\n",
              "  }\n",
              "\n",
              "  .colab-df-spinner {\n",
              "    border: 2px solid var(--fill-color);\n",
              "    border-color: transparent;\n",
              "    border-bottom-color: var(--fill-color);\n",
              "    animation:\n",
              "      spin 1s steps(1) infinite;\n",
              "  }\n",
              "\n",
              "  @keyframes spin {\n",
              "    0% {\n",
              "      border-color: transparent;\n",
              "      border-bottom-color: var(--fill-color);\n",
              "      border-left-color: var(--fill-color);\n",
              "    }\n",
              "    20% {\n",
              "      border-color: transparent;\n",
              "      border-left-color: var(--fill-color);\n",
              "      border-top-color: var(--fill-color);\n",
              "    }\n",
              "    30% {\n",
              "      border-color: transparent;\n",
              "      border-left-color: var(--fill-color);\n",
              "      border-top-color: var(--fill-color);\n",
              "      border-right-color: var(--fill-color);\n",
              "    }\n",
              "    40% {\n",
              "      border-color: transparent;\n",
              "      border-right-color: var(--fill-color);\n",
              "      border-top-color: var(--fill-color);\n",
              "    }\n",
              "    60% {\n",
              "      border-color: transparent;\n",
              "      border-right-color: var(--fill-color);\n",
              "    }\n",
              "    80% {\n",
              "      border-color: transparent;\n",
              "      border-right-color: var(--fill-color);\n",
              "      border-bottom-color: var(--fill-color);\n",
              "    }\n",
              "    90% {\n",
              "      border-color: transparent;\n",
              "      border-bottom-color: var(--fill-color);\n",
              "    }\n",
              "  }\n",
              "</style>\n",
              "\n",
              "  <script>\n",
              "    async function quickchart(key) {\n",
              "      const quickchartButtonEl =\n",
              "        document.querySelector('#' + key + ' button');\n",
              "      quickchartButtonEl.disabled = true;  // To prevent multiple clicks.\n",
              "      quickchartButtonEl.classList.add('colab-df-spinner');\n",
              "      try {\n",
              "        const charts = await google.colab.kernel.invokeFunction(\n",
              "            'suggestCharts', [key], {});\n",
              "      } catch (error) {\n",
              "        console.error('Error during call to suggestCharts:', error);\n",
              "      }\n",
              "      quickchartButtonEl.classList.remove('colab-df-spinner');\n",
              "      quickchartButtonEl.classList.add('colab-df-quickchart-complete');\n",
              "    }\n",
              "    (() => {\n",
              "      let quickchartButtonEl =\n",
              "        document.querySelector('#df-53c5f7b0-08ac-4059-aa2f-362f65ae61b4 button');\n",
              "      quickchartButtonEl.style.display =\n",
              "        google.colab.kernel.accessAllowed ? 'block' : 'none';\n",
              "    })();\n",
              "  </script>\n",
              "</div>\n",
              "    </div>\n",
              "  </div>\n"
            ]
          },
          "metadata": {},
          "execution_count": 7
        }
      ],
      "source": [
        "df.head()"
      ]
    },
    {
      "cell_type": "markdown",
      "id": "ee97d087",
      "metadata": {
        "papermill": {
          "duration": 0.018923,
          "end_time": "2023-09-05T18:46:25.422451",
          "exception": false,
          "start_time": "2023-09-05T18:46:25.403528",
          "status": "completed"
        },
        "tags": [],
        "id": "ee97d087"
      },
      "source": [
        "# 2- Cleaning Dataset"
      ]
    },
    {
      "cell_type": "markdown",
      "id": "4b2b12de",
      "metadata": {
        "papermill": {
          "duration": 0.014561,
          "end_time": "2023-09-05T18:46:25.455785",
          "exception": false,
          "start_time": "2023-09-05T18:46:25.441224",
          "status": "completed"
        },
        "tags": [],
        "id": "4b2b12de"
      },
      "source": [
        "## 2-1- Deleting Extra Columns"
      ]
    },
    {
      "cell_type": "code",
      "execution_count": null,
      "id": "397faf6e",
      "metadata": {
        "execution": {
          "iopub.execute_input": "2023-09-05T18:46:25.487022Z",
          "iopub.status.busy": "2023-09-05T18:46:25.486610Z",
          "iopub.status.idle": "2023-09-05T18:46:25.500496Z",
          "shell.execute_reply": "2023-09-05T18:46:25.499266Z"
        },
        "papermill": {
          "duration": 0.032394,
          "end_time": "2023-09-05T18:46:25.503195",
          "exception": false,
          "start_time": "2023-09-05T18:46:25.470801",
          "status": "completed"
        },
        "tags": [],
        "id": "397faf6e"
      },
      "outputs": [],
      "source": [
        "df1 = df.drop('education', axis=1)"
      ]
    },
    {
      "cell_type": "markdown",
      "id": "f2e5591f",
      "metadata": {
        "papermill": {
          "duration": 0.019756,
          "end_time": "2023-09-05T18:46:25.539902",
          "exception": false,
          "start_time": "2023-09-05T18:46:25.520146",
          "status": "completed"
        },
        "tags": [],
        "id": "f2e5591f"
      },
      "source": [
        "## 2-2- Dropping Nan Values"
      ]
    },
    {
      "cell_type": "code",
      "execution_count": null,
      "id": "d3b85247",
      "metadata": {
        "execution": {
          "iopub.execute_input": "2023-09-05T18:46:25.570431Z",
          "iopub.status.busy": "2023-09-05T18:46:25.569605Z",
          "iopub.status.idle": "2023-09-05T18:46:25.578951Z",
          "shell.execute_reply": "2023-09-05T18:46:25.577843Z"
        },
        "papermill": {
          "duration": 0.027379,
          "end_time": "2023-09-05T18:46:25.581385",
          "exception": false,
          "start_time": "2023-09-05T18:46:25.554006",
          "status": "completed"
        },
        "tags": [],
        "colab": {
          "base_uri": "https://localhost:8080/"
        },
        "id": "d3b85247",
        "outputId": "866dbcac-9394-455b-a818-08394b4b4d52"
      },
      "outputs": [
        {
          "output_type": "execute_result",
          "data": {
            "text/plain": [
              "male                 0\n",
              "age                  0\n",
              "currentSmoker        0\n",
              "cigsPerDay          29\n",
              "BPMeds              53\n",
              "prevalentStroke      0\n",
              "prevalentHyp         0\n",
              "diabetes             0\n",
              "totChol             50\n",
              "sysBP                0\n",
              "diaBP                0\n",
              "BMI                 19\n",
              "heartRate            1\n",
              "glucose            388\n",
              "TenYearCHD           0\n",
              "dtype: int64"
            ]
          },
          "metadata": {},
          "execution_count": 9
        }
      ],
      "source": [
        "df1.isnull().sum()"
      ]
    },
    {
      "cell_type": "code",
      "execution_count": null,
      "id": "c39718e1",
      "metadata": {
        "execution": {
          "iopub.execute_input": "2023-09-05T18:46:25.612407Z",
          "iopub.status.busy": "2023-09-05T18:46:25.611832Z",
          "iopub.status.idle": "2023-09-05T18:46:25.620399Z",
          "shell.execute_reply": "2023-09-05T18:46:25.619267Z"
        },
        "papermill": {
          "duration": 0.028357,
          "end_time": "2023-09-05T18:46:25.624240",
          "exception": false,
          "start_time": "2023-09-05T18:46:25.595883",
          "status": "completed"
        },
        "tags": [],
        "id": "c39718e1"
      },
      "outputs": [],
      "source": [
        "df1.dropna(inplace=True)"
      ]
    },
    {
      "cell_type": "code",
      "execution_count": null,
      "id": "cedfbed1",
      "metadata": {
        "execution": {
          "iopub.execute_input": "2023-09-05T18:46:25.667533Z",
          "iopub.status.busy": "2023-09-05T18:46:25.666685Z",
          "iopub.status.idle": "2023-09-05T18:46:25.675568Z",
          "shell.execute_reply": "2023-09-05T18:46:25.674688Z"
        },
        "papermill": {
          "duration": 0.034282,
          "end_time": "2023-09-05T18:46:25.678929",
          "exception": false,
          "start_time": "2023-09-05T18:46:25.644647",
          "status": "completed"
        },
        "tags": [],
        "colab": {
          "base_uri": "https://localhost:8080/"
        },
        "id": "cedfbed1",
        "outputId": "e0eb8b1c-8b33-4755-ade7-10272c19d4d6"
      },
      "outputs": [
        {
          "output_type": "execute_result",
          "data": {
            "text/plain": [
              "male               0\n",
              "age                0\n",
              "currentSmoker      0\n",
              "cigsPerDay         0\n",
              "BPMeds             0\n",
              "prevalentStroke    0\n",
              "prevalentHyp       0\n",
              "diabetes           0\n",
              "totChol            0\n",
              "sysBP              0\n",
              "diaBP              0\n",
              "BMI                0\n",
              "heartRate          0\n",
              "glucose            0\n",
              "TenYearCHD         0\n",
              "dtype: int64"
            ]
          },
          "metadata": {},
          "execution_count": 11
        }
      ],
      "source": [
        "df1.isnull().sum()"
      ]
    },
    {
      "cell_type": "markdown",
      "id": "45b5b558",
      "metadata": {
        "papermill": {
          "duration": 0.013841,
          "end_time": "2023-09-05T18:46:25.709648",
          "exception": false,
          "start_time": "2023-09-05T18:46:25.695807",
          "status": "completed"
        },
        "tags": [],
        "id": "45b5b558"
      },
      "source": [
        "# 3- Plotting"
      ]
    },
    {
      "cell_type": "code",
      "execution_count": null,
      "id": "19134244",
      "metadata": {
        "execution": {
          "iopub.execute_input": "2023-09-05T18:46:25.740421Z",
          "iopub.status.busy": "2023-09-05T18:46:25.739925Z",
          "iopub.status.idle": "2023-09-05T18:46:26.619845Z",
          "shell.execute_reply": "2023-09-05T18:46:26.618455Z"
        },
        "papermill": {
          "duration": 0.89881,
          "end_time": "2023-09-05T18:46:26.622654",
          "exception": false,
          "start_time": "2023-09-05T18:46:25.723844",
          "status": "completed"
        },
        "tags": [],
        "colab": {
          "base_uri": "https://localhost:8080/",
          "height": 449
        },
        "id": "19134244",
        "outputId": "a1fb1b3d-4d9e-47e2-d0bf-b032f50cf9dd"
      },
      "outputs": [
        {
          "output_type": "display_data",
          "data": {
            "text/plain": [
              "<Figure size 640x480 with 2 Axes>"
            ],
            "image/png": "[encoded data removed]"
          },
          "metadata": {}
        }
      ],
      "source": [
        "fig, ax = plt.subplots(2)\n",
        "sns.countplot(x='male',hue='TenYearCHD',data=df, ax=ax[0])\n",
        "sns.countplot(x='age',hue='TenYearCHD', data=df, ax=ax[1])\n",
        "plt.show()"
      ]
    },
    {
      "cell_type": "code",
      "source": [
        "# counting no. of patients affected with CHD\n",
        "plt.figure(figsize=(7, 5))\n",
        "sns.countplot(x='TenYearCHD', data=df,palette=\"BuGn_r\")\n",
        "plt.show()"
      ],
      "metadata": {
        "colab": {
          "base_uri": "https://localhost:8080/",
          "height": 465
        },
        "id": "ReKC-4mc49Jy",
        "outputId": "053a63bc-2579-4577-9d05-26f515b406f4"
      },
      "id": "ReKC-4mc49Jy",
      "execution_count": null,
      "outputs": [
        {
          "output_type": "display_data",
          "data": {
            "text/plain": [
              "<Figure size 700x500 with 1 Axes>"
            ],
            "image/png": "[encoded data removed]"
          },
          "metadata": {}
        }
      ]
    },
    {
      "cell_type": "code",
      "execution_count": null,
      "id": "0bc9be5e",
      "metadata": {
        "execution": {
          "iopub.execute_input": "2023-09-05T18:46:26.656154Z",
          "iopub.status.busy": "2023-09-05T18:46:26.655488Z",
          "iopub.status.idle": "2023-09-05T18:46:27.388039Z",
          "shell.execute_reply": "2023-09-05T18:46:27.385801Z"
        },
        "papermill": {
          "duration": 0.753756,
          "end_time": "2023-09-05T18:46:27.391705",
          "exception": false,
          "start_time": "2023-09-05T18:46:26.637949",
          "status": "completed"
        },
        "tags": [],
        "colab": {
          "base_uri": "https://localhost:8080/",
          "height": 449
        },
        "id": "0bc9be5e",
        "outputId": "59b8a3ea-898e-4cf4-e276-13ff26eccddf"
      },
      "outputs": [
        {
          "output_type": "display_data",
          "data": {
            "text/plain": [
              "<Figure size 640x480 with 2 Axes>"
            ],
            "image/png": "[encoded data removed]"
          },
          "metadata": {}
        }
      ],
      "source": [
        "fig, ax = plt.subplots(2)\n",
        "sns.countplot(x='cigsPerDay',hue='TenYearCHD',data=df, ax=ax[0])\n",
        "sns.countplot(x='prevalentStroke',hue='TenYearCHD', data=df, ax=ax[1])\n",
        "plt.show()"
      ]
    },
    {
      "cell_type": "markdown",
      "id": "3af2d4dc",
      "metadata": {
        "papermill": {
          "duration": 0.015182,
          "end_time": "2023-09-05T18:46:27.422178",
          "exception": false,
          "start_time": "2023-09-05T18:46:27.406996",
          "status": "completed"
        },
        "tags": [],
        "id": "3af2d4dc"
      },
      "source": [
        "# 4- Defining X(features) and y(label)"
      ]
    },
    {
      "cell_type": "code",
      "execution_count": null,
      "id": "f5156348",
      "metadata": {
        "execution": {
          "iopub.execute_input": "2023-09-05T18:46:27.454577Z",
          "iopub.status.busy": "2023-09-05T18:46:27.454146Z",
          "iopub.status.idle": "2023-09-05T18:46:27.461815Z",
          "shell.execute_reply": "2023-09-05T18:46:27.460581Z"
        },
        "papermill": {
          "duration": 0.027027,
          "end_time": "2023-09-05T18:46:27.464591",
          "exception": false,
          "start_time": "2023-09-05T18:46:27.437564",
          "status": "completed"
        },
        "tags": [],
        "id": "f5156348"
      },
      "outputs": [],
      "source": [
        "X = df1[[\"male\",\"age\",\"currentSmoker\",\"cigsPerDay\",\"BPMeds\",\"prevalentStroke\",\"prevalentHyp\",\"diabetes\",\"totChol\",\"sysBP\",\"diaBP\",\"BMI\",\"heartRate\",\"glucose\"]]\n",
        "y = df1[[\"TenYearCHD\"]]"
      ]
    },
    {
      "cell_type": "markdown",
      "id": "f6b8db00",
      "metadata": {
        "papermill": {
          "duration": 0.015728,
          "end_time": "2023-09-05T18:46:27.496527",
          "exception": false,
          "start_time": "2023-09-05T18:46:27.480799",
          "status": "completed"
        },
        "tags": [],
        "id": "f6b8db00"
      },
      "source": [
        "# 5- Normalizing dataset"
      ]
    },
    {
      "cell_type": "markdown",
      "id": "7d6ea47d",
      "metadata": {
        "papermill": {
          "duration": 0.015129,
          "end_time": "2023-09-05T18:46:27.526925",
          "exception": false,
          "start_time": "2023-09-05T18:46:27.511796",
          "status": "completed"
        },
        "tags": [],
        "id": "7d6ea47d"
      },
      "source": [
        "## 5-1- Before Normalization"
      ]
    },
    {
      "cell_type": "code",
      "execution_count": null,
      "id": "3f18973f",
      "metadata": {
        "execution": {
          "iopub.execute_input": "2023-09-05T18:46:27.562197Z",
          "iopub.status.busy": "2023-09-05T18:46:27.561783Z",
          "iopub.status.idle": "2023-09-05T18:46:27.571729Z",
          "shell.execute_reply": "2023-09-05T18:46:27.570614Z"
        },
        "papermill": {
          "duration": 0.030119,
          "end_time": "2023-09-05T18:46:27.573954",
          "exception": false,
          "start_time": "2023-09-05T18:46:27.543835",
          "status": "completed"
        },
        "tags": [],
        "colab": {
          "base_uri": "https://localhost:8080/"
        },
        "id": "3f18973f",
        "outputId": "47e0df64-29d4-46f0-e9e1-997bdc1f3d03"
      },
      "outputs": [
        {
          "output_type": "execute_result",
          "data": {
            "text/plain": [
              "male                 0.445215\n",
              "age                 49.573447\n",
              "currentSmoker        0.488403\n",
              "cigsPerDay           9.008531\n",
              "BPMeds               0.030392\n",
              "prevalentStroke      0.005599\n",
              "prevalentHyp         0.311917\n",
              "diabetes             0.027193\n",
              "totChol            236.928019\n",
              "sysBP              132.368435\n",
              "diaBP               82.938550\n",
              "BMI                 25.808288\n",
              "heartRate           75.704079\n",
              "glucose             81.880032\n",
              "dtype: float64"
            ]
          },
          "metadata": {},
          "execution_count": 15
        }
      ],
      "source": [
        "X.mean()"
      ]
    },
    {
      "cell_type": "code",
      "execution_count": null,
      "id": "a3d923de",
      "metadata": {
        "execution": {
          "iopub.execute_input": "2023-09-05T18:46:27.609196Z",
          "iopub.status.busy": "2023-09-05T18:46:27.608402Z",
          "iopub.status.idle": "2023-09-05T18:46:27.618808Z",
          "shell.execute_reply": "2023-09-05T18:46:27.617027Z"
        },
        "papermill": {
          "duration": 0.031325,
          "end_time": "2023-09-05T18:46:27.621789",
          "exception": false,
          "start_time": "2023-09-05T18:46:27.590464",
          "status": "completed"
        },
        "tags": [],
        "colab": {
          "base_uri": "https://localhost:8080/"
        },
        "id": "a3d923de",
        "outputId": "804fd210-b6c9-48d1-dcc6-c26fb1fb6770"
      },
      "outputs": [
        {
          "output_type": "execute_result",
          "data": {
            "text/plain": [
              "male                0.497056\n",
              "age                 8.570204\n",
              "currentSmoker       0.499932\n",
              "cigsPerDay         11.925097\n",
              "BPMeds              0.171686\n",
              "prevalentStroke     0.074623\n",
              "prevalentHyp        0.463338\n",
              "diabetes            0.162666\n",
              "totChol            44.611594\n",
              "sysBP              22.046522\n",
              "diaBP              11.932779\n",
              "BMI                 4.065599\n",
              "heartRate          11.956382\n",
              "glucose            23.882233\n",
              "dtype: float64"
            ]
          },
          "metadata": {},
          "execution_count": 16
        }
      ],
      "source": [
        "X.std()"
      ]
    },
    {
      "cell_type": "markdown",
      "id": "fdf08127",
      "metadata": {
        "papermill": {
          "duration": 0.015232,
          "end_time": "2023-09-05T18:46:27.652748",
          "exception": false,
          "start_time": "2023-09-05T18:46:27.637516",
          "status": "completed"
        },
        "tags": [],
        "id": "fdf08127"
      },
      "source": [
        "## 5-2- Normalization"
      ]
    },
    {
      "cell_type": "code",
      "execution_count": null,
      "id": "ad53ebfa",
      "metadata": {
        "execution": {
          "iopub.execute_input": "2023-09-05T18:46:27.685916Z",
          "iopub.status.busy": "2023-09-05T18:46:27.685482Z",
          "iopub.status.idle": "2023-09-05T18:46:27.699299Z",
          "shell.execute_reply": "2023-09-05T18:46:27.698423Z"
        },
        "papermill": {
          "duration": 0.03329,
          "end_time": "2023-09-05T18:46:27.701770",
          "exception": false,
          "start_time": "2023-09-05T18:46:27.668480",
          "status": "completed"
        },
        "tags": [],
        "id": "ad53ebfa"
      },
      "outputs": [],
      "source": [
        "scaler = preprocessing.StandardScaler().fit(X)\n",
        "X = scaler.fit_transform(X)"
      ]
    },
    {
      "cell_type": "markdown",
      "id": "596889e0",
      "metadata": {
        "papermill": {
          "duration": 0.015687,
          "end_time": "2023-09-05T18:46:27.799196",
          "exception": false,
          "start_time": "2023-09-05T18:46:27.783509",
          "status": "completed"
        },
        "tags": [],
        "id": "596889e0"
      },
      "source": [
        "## 5-3- After Normalization"
      ]
    },
    {
      "cell_type": "code",
      "execution_count": null,
      "id": "5da7f6cb",
      "metadata": {
        "execution": {
          "iopub.execute_input": "2023-09-05T18:46:27.833385Z",
          "iopub.status.busy": "2023-09-05T18:46:27.832595Z",
          "iopub.status.idle": "2023-09-05T18:46:27.838985Z",
          "shell.execute_reply": "2023-09-05T18:46:27.838074Z"
        },
        "papermill": {
          "duration": 0.02664,
          "end_time": "2023-09-05T18:46:27.841519",
          "exception": false,
          "start_time": "2023-09-05T18:46:27.814879",
          "status": "completed"
        },
        "tags": [],
        "colab": {
          "base_uri": "https://localhost:8080/"
        },
        "id": "5da7f6cb",
        "outputId": "070077b3-e1f7-4023-bb5b-97e3e33eadd3"
      },
      "outputs": [
        {
          "output_type": "execute_result",
          "data": {
            "text/plain": [
              "2.070172498215625e-17"
            ]
          },
          "metadata": {},
          "execution_count": 18
        }
      ],
      "source": [
        "X.mean()"
      ]
    },
    {
      "cell_type": "code",
      "execution_count": null,
      "id": "a922806f",
      "metadata": {
        "execution": {
          "iopub.execute_input": "2023-09-05T18:46:27.875785Z",
          "iopub.status.busy": "2023-09-05T18:46:27.875340Z",
          "iopub.status.idle": "2023-09-05T18:46:27.883704Z",
          "shell.execute_reply": "2023-09-05T18:46:27.882435Z"
        },
        "papermill": {
          "duration": 0.029115,
          "end_time": "2023-09-05T18:46:27.886465",
          "exception": false,
          "start_time": "2023-09-05T18:46:27.857350",
          "status": "completed"
        },
        "tags": [],
        "colab": {
          "base_uri": "https://localhost:8080/"
        },
        "id": "a922806f",
        "outputId": "d7a738e8-6b14-4dc0-d776-1ea4d2ce10f5"
      },
      "outputs": [
        {
          "output_type": "execute_result",
          "data": {
            "text/plain": [
              "0.9999999999999999"
            ]
          },
          "metadata": {},
          "execution_count": 19
        }
      ],
      "source": [
        "X.std()"
      ]
    },
    {
      "cell_type": "markdown",
      "id": "3a67cf55",
      "metadata": {
        "papermill": {
          "duration": 0.015603,
          "end_time": "2023-09-05T18:46:27.918294",
          "exception": false,
          "start_time": "2023-09-05T18:46:27.902691",
          "status": "completed"
        },
        "tags": [],
        "id": "3a67cf55"
      },
      "source": [
        "# 6- Train Test Split"
      ]
    },
    {
      "cell_type": "code",
      "execution_count": null,
      "id": "cbc18375",
      "metadata": {
        "execution": {
          "iopub.execute_input": "2023-09-05T18:46:27.953587Z",
          "iopub.status.busy": "2023-09-05T18:46:27.952354Z",
          "iopub.status.idle": "2023-09-05T18:46:27.960576Z",
          "shell.execute_reply": "2023-09-05T18:46:27.959513Z"
        },
        "papermill": {
          "duration": 0.028853,
          "end_time": "2023-09-05T18:46:27.963082",
          "exception": false,
          "start_time": "2023-09-05T18:46:27.934229",
          "status": "completed"
        },
        "tags": [],
        "id": "cbc18375"
      },
      "outputs": [],
      "source": [
        "X_train, X_test, y_train, y_test = train_test_split(X, y, random_state=0)"
      ]
    },
    {
      "cell_type": "markdown",
      "id": "218d48fa",
      "metadata": {
        "papermill": {
          "duration": 0.015507,
          "end_time": "2023-09-05T18:46:27.994809",
          "exception": false,
          "start_time": "2023-09-05T18:46:27.979302",
          "status": "completed"
        },
        "tags": [],
        "id": "218d48fa"
      },
      "source": [
        "# 7- Modeling"
      ]
    },
    {
      "cell_type": "code",
      "execution_count": null,
      "id": "2d76b92b",
      "metadata": {
        "execution": {
          "iopub.execute_input": "2023-09-05T18:46:28.028764Z",
          "iopub.status.busy": "2023-09-05T18:46:28.028307Z",
          "iopub.status.idle": "2023-09-05T18:46:28.059266Z",
          "shell.execute_reply": "2023-09-05T18:46:28.057570Z"
        },
        "papermill": {
          "duration": 0.053306,
          "end_time": "2023-09-05T18:46:28.063994",
          "exception": false,
          "start_time": "2023-09-05T18:46:28.010688",
          "status": "completed"
        },
        "tags": [],
        "id": "2d76b92b"
      },
      "outputs": [],
      "source": [
        "LR = LogisticRegression().fit(X_train, y_train.values.ravel())"
      ]
    },
    {
      "cell_type": "markdown",
      "id": "f9186388",
      "metadata": {
        "papermill": {
          "duration": 0.034454,
          "end_time": "2023-09-05T18:46:28.132402",
          "exception": false,
          "start_time": "2023-09-05T18:46:28.097948",
          "status": "completed"
        },
        "tags": [],
        "id": "f9186388"
      },
      "source": [
        " # 8- Predicting"
      ]
    },
    {
      "cell_type": "code",
      "execution_count": null,
      "id": "480dcc78",
      "metadata": {
        "execution": {
          "iopub.execute_input": "2023-09-05T18:46:28.190301Z",
          "iopub.status.busy": "2023-09-05T18:46:28.189721Z",
          "iopub.status.idle": "2023-09-05T18:46:28.198483Z",
          "shell.execute_reply": "2023-09-05T18:46:28.196853Z"
        },
        "papermill": {
          "duration": 0.035476,
          "end_time": "2023-09-05T18:46:28.202845",
          "exception": false,
          "start_time": "2023-09-05T18:46:28.167369",
          "status": "completed"
        },
        "tags": [],
        "id": "480dcc78"
      },
      "outputs": [],
      "source": [
        "y_pred = LR.predict(X_test)"
      ]
    },
    {
      "cell_type": "markdown",
      "id": "cde654f2",
      "metadata": {
        "papermill": {
          "duration": 0.033987,
          "end_time": "2023-09-05T18:46:28.270106",
          "exception": false,
          "start_time": "2023-09-05T18:46:28.236119",
          "status": "completed"
        },
        "tags": [],
        "id": "cde654f2"
      },
      "source": [
        "# 9- Confusiosn Matrix"
      ]
    },
    {
      "cell_type": "code",
      "execution_count": null,
      "id": "c62d649f",
      "metadata": {
        "execution": {
          "iopub.execute_input": "2023-09-05T18:46:28.326883Z",
          "iopub.status.busy": "2023-09-05T18:46:28.326103Z",
          "iopub.status.idle": "2023-09-05T18:46:28.650059Z",
          "shell.execute_reply": "2023-09-05T18:46:28.648716Z"
        },
        "papermill": {
          "duration": 0.351689,
          "end_time": "2023-09-05T18:46:28.654412",
          "exception": false,
          "start_time": "2023-09-05T18:46:28.302723",
          "status": "completed"
        },
        "tags": [],
        "colab": {
          "base_uri": "https://localhost:8080/",
          "height": 449
        },
        "id": "c62d649f",
        "outputId": "961e1c92-314a-498e-9cd2-6c3456dac1c9"
      },
      "outputs": [
        {
          "output_type": "display_data",
          "data": {
            "text/plain": [
              "<Figure size 640x480 with 2 Axes>"
            ],
            "image/png": "[encoded data removed]"
          },
          "metadata": {}
        }
      ],
      "source": [
        "confusion_matrix = metrics.confusion_matrix(y_test, y_pred)\n",
        "cm_display = metrics.ConfusionMatrixDisplay(confusion_matrix = confusion_matrix, display_labels = [0, 1])\n",
        "cm_display.plot()\n",
        "plt.show()"
      ]
    },
    {
      "cell_type": "markdown",
      "id": "2c8ce29c",
      "metadata": {
        "papermill": {
          "duration": 0.020871,
          "end_time": "2023-09-05T18:46:28.696178",
          "exception": false,
          "start_time": "2023-09-05T18:46:28.675307",
          "status": "completed"
        },
        "tags": [],
        "id": "2c8ce29c"
      },
      "source": [
        "# 10- Checking Accuracy"
      ]
    },
    {
      "cell_type": "code",
      "execution_count": null,
      "id": "0c58a7ad",
      "metadata": {
        "execution": {
          "iopub.execute_input": "2023-09-05T18:46:28.730946Z",
          "iopub.status.busy": "2023-09-05T18:46:28.730471Z",
          "iopub.status.idle": "2023-09-05T18:46:28.744596Z",
          "shell.execute_reply": "2023-09-05T18:46:28.743360Z"
        },
        "papermill": {
          "duration": 0.034839,
          "end_time": "2023-09-05T18:46:28.747232",
          "exception": false,
          "start_time": "2023-09-05T18:46:28.712393",
          "status": "completed"
        },
        "tags": [],
        "colab": {
          "base_uri": "https://localhost:8080/"
        },
        "id": "0c58a7ad",
        "outputId": "2db93ee6-5a06-47ff-9fe8-2cc1ed8ecffc"
      },
      "outputs": [
        {
          "output_type": "execute_result",
          "data": {
            "text/plain": [
              "0.8539445628997868"
            ]
          },
          "metadata": {},
          "execution_count": 24
        }
      ],
      "source": [
        "accuracy_score(y_test, y_pred)"
      ]
    },
    {
      "cell_type": "markdown",
      "id": "624eda48",
      "metadata": {
        "papermill": {
          "duration": 0.016097,
          "end_time": "2023-09-05T18:46:28.779712",
          "exception": false,
          "start_time": "2023-09-05T18:46:28.763615",
          "status": "completed"
        },
        "tags": [],
        "id": "624eda48"
      },
      "source": [
        "# 11- Checking The Probablity of Heart Disease for Test Set"
      ]
    },
    {
      "cell_type": "code",
      "execution_count": null,
      "id": "3131325f",
      "metadata": {
        "execution": {
          "iopub.execute_input": "2023-09-05T18:46:28.814276Z",
          "iopub.status.busy": "2023-09-05T18:46:28.813860Z",
          "iopub.status.idle": "2023-09-05T18:46:28.827582Z",
          "shell.execute_reply": "2023-09-05T18:46:28.825581Z"
        },
        "papermill": {
          "duration": 0.035804,
          "end_time": "2023-09-05T18:46:28.831753",
          "exception": false,
          "start_time": "2023-09-05T18:46:28.795949",
          "status": "completed"
        },
        "tags": [],
        "id": "3131325f"
      },
      "outputs": [],
      "source": [
        "y_pred_prob = LR.predict_proba(X_test)"
      ]
    },
    {
      "cell_type": "code",
      "execution_count": null,
      "id": "200c8e21",
      "metadata": {
        "execution": {
          "iopub.execute_input": "2023-09-05T18:46:28.903182Z",
          "iopub.status.busy": "2023-09-05T18:46:28.902469Z",
          "iopub.status.idle": "2023-09-05T18:46:28.914329Z",
          "shell.execute_reply": "2023-09-05T18:46:28.912384Z"
        },
        "papermill": {
          "duration": 0.052224,
          "end_time": "2023-09-05T18:46:28.918230",
          "exception": false,
          "start_time": "2023-09-05T18:46:28.866006",
          "status": "completed"
        },
        "tags": [],
        "colab": {
          "base_uri": "https://localhost:8080/"
        },
        "id": "200c8e21",
        "outputId": "725e4911-f117-47e2-d3bb-b60244161e38"
      },
      "outputs": [
        {
          "output_type": "execute_result",
          "data": {
            "text/plain": [
              "array([[0.94274392, 0.05725608],\n",
              "       [0.77875259, 0.22124741],\n",
              "       [0.95848893, 0.04151107],\n",
              "       ...,\n",
              "       [0.86524412, 0.13475588],\n",
              "       [0.87101439, 0.12898561],\n",
              "       [0.65107217, 0.34892783]])"
            ]
          },
          "metadata": {},
          "execution_count": 26
        }
      ],
      "source": [
        "y_pred_prob"
      ]
    },
    {
      "cell_type": "markdown",
      "id": "a15ee9c8",
      "metadata": {
        "papermill": {
          "duration": 0.019588,
          "end_time": "2023-09-05T18:46:28.970454",
          "exception": false,
          "start_time": "2023-09-05T18:46:28.950866",
          "status": "completed"
        },
        "tags": [],
        "id": "a15ee9c8"
      },
      "source": [
        "Validating the model"
      ]
    },
    {
      "cell_type": "code",
      "source": [
        "import numpy as np\n",
        "\n",
        "# Get input manually from the user for each feature\n",
        "male = float(input(\"Enter your gender (0 for female, 1 for male): \"))\n",
        "age = float(input(\"Enter your age: \"))\n",
        "currentSmoker = float(input(\"Are you a current smoker? (0 for no, 1 for yes): \"))\n",
        "cigsPerDay = float(input(\"Enter the number of cigarettes per day: \"))\n",
        "BPMeds = float(input(\"Are you taking blood pressure medication? (0 for no, 1 for yes): \"))\n",
        "prevalentStroke = float(input(\"Have you had a prevalent stroke? (0 for no, 1 for yes): \"))\n",
        "prevalentHyp = float(input(\"Do you have prevalent hypertension? (0 for no, 1 for yes): \"))\n",
        "diabetes = float(input(\"Do you have diabetes? (0 for no, 1 for yes): \"))\n",
        "totChol = float(input(\"Enter your total cholesterol: \"))\n",
        "sysBP = float(input(\"Enter your systolic blood pressure: \"))\n",
        "diaBP = float(input(\"Enter your diastolic blood pressure: \"))\n",
        "BMI = float(input(\"Enter your BMI: \"))\n",
        "heartRate = float(input(\"Enter your heart rate: \"))\n",
        "glucose = float(input(\"Enter your glucose level: \"))\n",
        "\n",
        "# Create a NumPy array with the user input\n",
        "user_input = np.array([[male, age, currentSmoker, cigsPerDay, BPMeds, prevalentStroke, prevalentHyp,\n",
        "                        diabetes, totChol, sysBP, diaBP, BMI, heartRate, glucose]])\n",
        "\n",
        "# Use the trained model to make predictions\n",
        "predicted_outcome = LR.predict(user_input)\n",
        "\n",
        "print(f\"Predicted Outcome: {predicted_outcome}\")\n",
        "\n",
        "# Display result based on the predicted outcome\n",
        "if predicted_outcome == 0:\n",
        "    print(\"You don't have heart disease.\")\n",
        "else:\n",
        "    print(\"You have heart disease.\")\n"
      ],
      "metadata": {
        "colab": {
          "base_uri": "https://localhost:8080/"
        },
        "id": "zVVFg2Maz-sv",
        "outputId": "728f68b4-3396-452f-fcfa-15c9651c64bb"
      },
      "id": "zVVFg2Maz-sv",
      "execution_count": null,
      "outputs": [
        {
          "output_type": "stream",
          "name": "stdout",
          "text": [
            "Enter your gender (0 for female, 1 for male): 1\n",
            "Enter your age: 12\n",
            "Are you a current smoker? (0 for no, 1 for yes): 0\n",
            "Enter the number of cigarettes per day: 0\n",
            "Are you taking blood pressure medication? (0 for no, 1 for yes): 1\n",
            "Have you had a prevalent stroke? (0 for no, 1 for yes): 1\n",
            "Do you have prevalent hypertension? (0 for no, 1 for yes): 0\n",
            "Do you have diabetes? (0 for no, 1 for yes): 0\n",
            "Enter your total cholesterol: 121\n",
            "Enter your systolic blood pressure: 123\n",
            "Enter your diastolic blood pressure: 12\n",
            "Enter your BMI: 34\n",
            "Enter your heart rate: 89\n",
            "Enter your glucose level: 120\n",
            "Predicted Outcome: [1]\n",
            "You have heart disease.\n"
          ]
        }
      ]
    }
  ],
  "metadata": {
    "kernelspec": {
      "display_name": "Python 3",
      "language": "python",
      "name": "python3"
    },
    "language_info": {
      "codemirror_mode": {
        "name": "ipython",
        "version": 3
      },
      "file_extension": ".py",
      "mimetype": "text/x-python",
      "name": "python",
      "nbconvert_exporter": "python",
      "pygments_lexer": "ipython3",
      "version": "3.10.12"
    },
    "papermill": {
      "default_parameters": {},
      "duration": 10.777672,
      "end_time": "2023-09-05T18:46:29.713512",
      "environment_variables": {},
      "exception": null,
      "input_path": "__notebook__.ipynb",
      "output_path": "__notebook__.ipynb",
      "parameters": {},
      "start_time": "2023-09-05T18:46:18.935840",
      "version": "2.4.0"
    },
    "colab": {
      "provenance": [],
      "include_colab_link": true
    }
  },
  "nbformat": 4,
  "nbformat_minor": 5
}